{
 "cells": [
  {
   "cell_type": "markdown",
   "id": "a5963a77-06fd-440f-a550-cecb6f4bb3bf",
   "metadata": {},
   "source": [
    "Target: Apply skills I learnt\n",
    "ML Methods: Supervised Learning: Reg. or class\n",
    "\n",
    "Steps: \n",
    "\n",
    "1. Datasets definition\n",
    "2. Hypothesis \n",
    "3. Exploration\n",
    "4. Presentation"
   ]
  },
  {
   "cell_type": "markdown",
   "id": "65fae202-5ac5-4ee7-b3c6-e7a651af907e",
   "metadata": {},
   "source": [
    "1. Predicting employee retention (company related and employee related)\n",
    "A model that precict potential candidates and employees retention score based on features like:\n",
    "* employees demographics (age , gender, education, marital status)\n",
    "* employee past employment details\n",
    "* work environment (location, commute, amenities, colture)\n",
    "* Job satisfaction (performance reviewS, past survyes, engagment)\n",
    "* Work-life balance (hours, options, policies, programs)\n",
    "\n",
    "\n",
    "mentor (rephrase ideas): \n",
    "\n",
    "* how loong they actually stay\n",
    "* probability after two years\n",
    "* probabilyt they will still be here after a time visit\n",
    "\n",
    "datasets: \n",
    "1. explore\n",
    "1. synthtic datasets (say i want these features, values, etc. )\n",
    "2. websites: kaggle, zindy, uci machine learning repo, reasearch papers, google scholar, etc. "
   ]
  },
  {
   "cell_type": "code",
   "execution_count": null,
   "id": "bedc43c7-35c2-4771-b97d-dd483494b8f8",
   "metadata": {},
   "outputs": [],
   "source": [
    "Dataset: \n",
    "\n",
    "Link: https://www.kaggle.com/datasets/thedevastator/employee-attrition-and-factors\n"
   ]
  }
 ],
 "metadata": {
  "kernelspec": {
   "display_name": "Python 3 (ipykernel)",
   "language": "python",
   "name": "python3"
  },
  "language_info": {
   "codemirror_mode": {
    "name": "ipython",
    "version": 3
   },
   "file_extension": ".py",
   "mimetype": "text/x-python",
   "name": "python",
   "nbconvert_exporter": "python",
   "pygments_lexer": "ipython3",
   "version": "3.11.7"
  }
 },
 "nbformat": 4,
 "nbformat_minor": 5
}
