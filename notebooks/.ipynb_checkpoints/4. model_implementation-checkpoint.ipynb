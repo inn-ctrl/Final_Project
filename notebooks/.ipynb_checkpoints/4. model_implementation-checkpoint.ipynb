{
 "cells": [
  {
   "cell_type": "code",
   "execution_count": 3,
   "id": "d71693b9-557d-4918-836c-03df9090ffc7",
   "metadata": {},
   "outputs": [],
   "source": [
    "import pandas as pd\n",
    "\n",
    "#PCA imports\n",
    "from sklearn.decomposition import PCA\n",
    "from sklearn.preprocessing import StandardScaler\n",
    "import matplotlib.pyplot as plt\n",
    "import seaborn as sns\n",
    "\n",
    "#Model imports\n",
    "from sklearn.model_selection import train_test_split\n",
    "from sklearn.ensemble import RandomForestClassifier\n",
    "from sklearn.metrics import accuracy_score, classification_report"
   ]
  },
  {
   "cell_type": "code",
   "execution_count": 4,
   "id": "bb065f7d-04f8-4292-8cb5-50ed06a8f87e",
   "metadata": {},
   "outputs": [],
   "source": [
    "#dataset\n",
    "data = pd.read_csv('../data/data.csv')"
   ]
  },
  {
   "cell_type": "code",
   "execution_count": null,
   "id": "a0900d01-26a4-4296-be88-5ea17d20c130",
   "metadata": {},
   "outputs": [],
   "source": [
    "#evaluate accuracy\n",
    "accuracy = accuracy_score(y_test, y_pred)\n",
    "#classification report\n",
    "classification_report = classification_report(y_test, y_pred)"
   ]
  },
  {
   "cell_type": "code",
   "execution_count": null,
   "id": "5e1c3c17-1e23-41e3-8fb1-c2f297686676",
   "metadata": {},
   "outputs": [],
   "source": [
    "print(accuracy)\n",
    "print(classification_report)"
   ]
  },
  {
   "cell_type": "markdown",
   "id": "10b84425-6c28-45d7-be86-9f145a930ea6",
   "metadata": {},
   "source": [
    "Model Implementation"
   ]
  },
  {
   "cell_type": "code",
   "execution_count": null,
   "id": "22a70faf-592c-4f1e-b5ab-14398ca7394c",
   "metadata": {},
   "outputs": [],
   "source": [
    "newdata = pd.DataFrame({'TotalWorkingYears': 10, \n",
    "                        'JobLevel': 3,\n",
    "                        'YearsAtCompany': 5,\n",
    "                        'MonthlyIncome': 3000,\n",
    "                        'YearsInCurrentRole': 10, \n",
    "                        'YearsWithCurrManager': 3,\n",
    "                        'YearsSinceLastPromotion': 1, \n",
    "                        'Age': 32,\n",
    "                        'JobRole': 5, \n",
    "                        'Education': 4, \n",
    "                        'MaritalStatus': 1, \n",
    "                        'NumCompaniesWorked': 2,\n",
    "                        'Gender': 1,\n",
    "                        'StockOptionLevel':1 , \n",
    "                        'RelationshipSatisfaction': 4, \n",
    "                        'WorkLifeBalance': 3,\n",
    "                        'MonthlyRate': 19200, \n",
    "                        'DistanceFromHome': 1, \n",
    "                        'EnvironmentSatisfaction': 4}, \n",
    "                       index = [0])\n",
    "predictions = model.predict(newdata)\n",
    "\n",
    "#result\n",
    "if predictions == 1:\n",
    "  print(\"Employee is likely to stay\")\n",
    "else:\n",
    "  print(\"Employee is likely to go\")\n",
    "print(predictions)"
   ]
  }
 ],
 "metadata": {
  "kernelspec": {
   "display_name": "Python 3 (ipykernel)",
   "language": "python",
   "name": "python3"
  },
  "language_info": {
   "codemirror_mode": {
    "name": "ipython",
    "version": 3
   },
   "file_extension": ".py",
   "mimetype": "text/x-python",
   "name": "python",
   "nbconvert_exporter": "python",
   "pygments_lexer": "ipython3",
   "version": "3.11.7"
  }
 },
 "nbformat": 4,
 "nbformat_minor": 5
}
