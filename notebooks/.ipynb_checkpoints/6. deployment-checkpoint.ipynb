{
 "cells": [
  {
   "cell_type": "code",
   "execution_count": null,
   "id": "14ff0c22-6641-41bb-b2f4-f64b3bb8a05c",
   "metadata": {},
   "outputs": [],
   "source": [
    "Other Considerations\n",
    "\n",
    "1. Ethical considerations\n",
    "2. Handling Imbalanced classes\n",
    "3. Continous improvement"
   ]
  }
 ],
 "metadata": {
  "kernelspec": {
   "display_name": "Python 3 (ipykernel)",
   "language": "python",
   "name": "python3"
  },
  "language_info": {
   "codemirror_mode": {
    "name": "ipython",
    "version": 3
   },
   "file_extension": ".py",
   "mimetype": "text/x-python",
   "name": "python",
   "nbconvert_exporter": "python",
   "pygments_lexer": "ipython3",
   "version": "3.11.7"
  }
 },
 "nbformat": 4,
 "nbformat_minor": 5
}
