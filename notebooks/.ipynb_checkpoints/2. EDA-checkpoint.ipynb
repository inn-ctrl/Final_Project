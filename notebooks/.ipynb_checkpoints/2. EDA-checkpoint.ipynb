{
 "cells": [
  {
   "cell_type": "code",
   "execution_count": 1,
   "id": "cc65e7ca-4371-419a-9ff4-8c8f48a09c67",
   "metadata": {},
   "outputs": [],
   "source": [
    "import pandas as pd\n",
    "import os\n",
    "\n",
    "import matplotlib.pyplot as plt"
   ]
  },
  {
   "cell_type": "code",
   "execution_count": 3,
   "id": "28158903-fe34-4bcd-a1c9-655c23d72efa",
   "metadata": {},
   "outputs": [],
   "source": [
    "#dataset\n",
    "data = pd.read_csv('../data/data.csv')"
   ]
  },
  {
   "cell_type": "markdown",
   "id": "6ad1f3c5-64ea-4f86-bcad-573c611852f4",
   "metadata": {},
   "source": [
    "1. Visualization"
   ]
  },
  {
   "cell_type": "markdown",
   "id": "f07a1a40-6fd5-4ff5-969d-6b297d7f298d",
   "metadata": {},
   "source": [
    "The best way to see the relationship with Attritin and the rest of the features is by using bar charts"
   ]
  },
  {
   "cell_type": "code",
   "execution_count": null,
   "id": "5ed2537a-0d14-41ce-8130-5bc66bcd81ca",
   "metadata": {},
   "outputs": [],
   "source": []
  },
  {
   "cell_type": "code",
   "execution_count": null,
   "id": "792df544-eefe-4649-89c0-ca335c0c56b5",
   "metadata": {},
   "outputs": [],
   "source": [
    "#Attrition vs Age\n",
    "plt.figure(figsize=(10, 6))\n",
    "sns.histplot(data=df, x=\"TotalWorkingYears\", hue=\"Attrition\", palette=\"viridis\")\n",
    "plt.title(\"Distribution of Total Working Years by Attrition\")\n",
    "plt.xlabel(\"Working Years\")\n",
    "plt.ylabel(\"Count\")\n",
    "plt.show()"
   ]
  },
  {
   "cell_type": "code",
   "execution_count": null,
   "id": "53d4d4c8-94a0-495d-93f0-0f6048cdbf1b",
   "metadata": {},
   "outputs": [],
   "source": [
    "#JobLevel vs Attrition\n",
    "plt.figure(figsize=(10, 6))\n",
    "sns.histplot(data=df, x=\"JobLevel\", hue=\"Attrition\", palette=\"viridis\")\n",
    "plt.title(\"Distribution of JobLevel by Attrition\")\n",
    "plt.xlabel(\"JobLevel\")\n",
    "plt.ylabel(\"Count\")\n",
    "plt.show()"
   ]
  },
  {
   "cell_type": "code",
   "execution_count": null,
   "id": "d586c40f-1715-43f9-b596-c11ee3501307",
   "metadata": {},
   "outputs": [],
   "source": [
    "#YearsAtCompany vs Attrition\n",
    "plt.figure(figsize=(10, 6))\n",
    "sns.histplot(data=df, x=\"YearsAtCompany\", hue=\"Attrition\", palette=\"viridis\")\n",
    "plt.title(\"Distribution of YearsAtCompany by Attrition\")\n",
    "plt.xlabel(\"YearsAtCompany\")\n",
    "plt.ylabel(\"Count\")\n",
    "plt.show()"
   ]
  },
  {
   "cell_type": "code",
   "execution_count": null,
   "id": "b235970c-4d09-4c69-bb91-61879e541eda",
   "metadata": {},
   "outputs": [],
   "source": [
    "#Monthly Income vs Attrition\n",
    "plt.figure(figsize=(10, 6))\n",
    "sns.histplot(data=df, x=\"MonthlyIncome\", hue=\"Attrition\", palette=\"viridis\")\n",
    "plt.title(\"Distribution of MonthlyIncome by Attrition\")\n",
    "plt.xlabel(\"MonthlyIncome\")\n",
    "plt.ylabel(\"Count\")\n",
    "plt.show()"
   ]
  },
  {
   "cell_type": "code",
   "execution_count": null,
   "id": "63166b17-1aab-46a9-b352-6f96166f1545",
   "metadata": {},
   "outputs": [],
   "source": [
    "plt.figure(figsize=(10, 6))\n",
    "sns.histplot(data=df, x=\"YearsInCurrentRole\", hue=\"Attrition\", palette=\"viridis\")\n",
    "plt.title(\"Distribution of YearsInCurrentRole by Attrition\")\n",
    "plt.xlabel(\"YearsInCurrentRole\")\n",
    "plt.ylabel(\"Count\")\n",
    "plt.show()"
   ]
  },
  {
   "cell_type": "code",
   "execution_count": null,
   "id": "7399adf0-00fd-4d70-8ebd-6d75153c5501",
   "metadata": {},
   "outputs": [],
   "source": [
    "#YearsWithCurrentManager\n",
    "plt.figure(figsize=(10, 6))\n",
    "sns.histplot(data=df, x=\"YearsWithCurrManager\", hue=\"Attrition\", palette=\"viridis\")\n",
    "plt.title(\"Distribution of YearsWithCurrentManager by Attrition\")\n",
    "plt.xlabel(\"YearsWithCurrManager\")\n",
    "plt.ylabel(\"Count\")\n",
    "plt.show()"
   ]
  },
  {
   "cell_type": "code",
   "execution_count": null,
   "id": "608a1835-470c-46de-9393-68009faa27ae",
   "metadata": {},
   "outputs": [],
   "source": [
    "#YearsSinceLastPromotion vs attrition\n",
    "plt.figure(figsize=(10, 6))\n",
    "sns.histplot(data=df, x=\"YearsSinceLastPromotion\", hue=\"Attrition\", palette=\"viridis\")\n",
    "plt.title(\"Distribution of YearsSinceLastPromotion by Attrition\")\n",
    "plt.xlabel(\"YearsSinceLastPromotion\")\n",
    "plt.ylabel(\"Count\")\n",
    "plt.show()"
   ]
  },
  {
   "cell_type": "code",
   "execution_count": null,
   "id": "2a8b87b9-642d-47d4-b105-795974ad47cc",
   "metadata": {},
   "outputs": [],
   "source": [
    "#Age vs Attrition\n",
    "plt.figure(figsize=(10, 6))\n",
    "sns.histplot(data=df, x=\"Age\", hue=\"Attrition\", palette=\"viridis\")\n",
    "plt.title(\"Distribution of Age by Attrition\")\n",
    "plt.xlabel(\"Age\")\n",
    "plt.ylabel(\"Count\")\n",
    "plt.show()"
   ]
  },
  {
   "cell_type": "code",
   "execution_count": null,
   "id": "6e3017ed-c7ff-439b-b581-d26bf7958cf3",
   "metadata": {},
   "outputs": [],
   "source": [
    "#JobRole vs Attrition\n",
    "plt.figure(figsize=(10, 6))\n",
    "sns.histplot(data=df, x=\"JobRole\", hue=\"Attrition\", palette=\"viridis\")\n",
    "plt.title(\"Distribution of JobRole by Attrition\")\n",
    "plt.xlabel(\"JobRole\")\n",
    "plt.ylabel(\"Count\")\n",
    "plt.show()"
   ]
  },
  {
   "cell_type": "code",
   "execution_count": null,
   "id": "b0698e28-a5e0-4245-8f94-91f52ccddde4",
   "metadata": {},
   "outputs": [],
   "source": [
    "#Education vs Attrition\n",
    "plt.figure(figsize=(10, 6))\n",
    "sns.histplot(data=df, x=\"Education\", hue=\"Attrition\", palette=\"viridis\")\n",
    "plt.title(\"Distribution of Education by Attrition\")\n",
    "plt.xlabel(\"Education\")\n",
    "plt.ylabel(\"Count\")\n",
    "plt.show()"
   ]
  },
  {
   "cell_type": "code",
   "execution_count": null,
   "id": "51bbdb0e-acdd-4b3c-a2ac-e0965b63f995",
   "metadata": {},
   "outputs": [],
   "source": [
    "#MaritalStatus vs Attrition\n",
    "plt.figure(figsize=(10, 6))\n",
    "sns.histplot(data=df, x=\"MaritalStatus\", hue=\"Attrition\", palette=\"viridis\")\n",
    "plt.title(\"Distribution of MaritalStatus by Attrition\")\n",
    "plt.xlabel(\"MaritalStatus\")\n",
    "plt.ylabel(\"Count\")\n",
    "plt.show()"
   ]
  },
  {
   "cell_type": "code",
   "execution_count": null,
   "id": "6ca72eed-1197-4877-bdd9-992bc69112f5",
   "metadata": {},
   "outputs": [],
   "source": [
    "#NumCompaniersWorked vs Attrition\n",
    "plt.figure(figsize=(10, 6))\n",
    "sns.histplot(data=df, x=\"NumCompaniesWorked\", hue=\"Attrition\", palette=\"viridis\")\n",
    "plt.title(\"Distribution of NumCompaniesWorked by Attrition\")\n",
    "plt.xlabel(\"NumCompaniesWorked\")\n",
    "plt.ylabel(\"Count\")\n",
    "plt.show()"
   ]
  },
  {
   "cell_type": "code",
   "execution_count": null,
   "id": "f3c77b51-eea7-47d1-a9f5-b0f8f4ca4439",
   "metadata": {},
   "outputs": [],
   "source": [
    "#Gender vs Attrition\n",
    "plt.figure(figsize=(10, 6))\n",
    "sns.histplot(data=df, x=\"Gender\", hue=\"Attrition\", palette=\"viridis\")\n",
    "plt.title(\"Distribution of Gender by Attrition\")\n",
    "plt.xlabel(\"Gender\")\n",
    "plt.ylabel(\"Count\")\n",
    "plt.show()"
   ]
  },
  {
   "cell_type": "code",
   "execution_count": null,
   "id": "77142e46-b409-4f41-9a71-6b795f57e82d",
   "metadata": {},
   "outputs": [],
   "source": [
    "#StockOptionLevel vs Attrition\n",
    "plt.figure(figsize=(10, 6))\n",
    "sns.histplot(data=df, x=\"StockOptionLevel\", hue=\"Attrition\", palette=\"viridis\")\n",
    "plt.title(\"Distribution of StockOptionLevel by Attrition\")\n",
    "plt.xlabel(\"StockOptionLevel\")\n",
    "plt.ylabel(\"Count\")\n",
    "plt.show()"
   ]
  },
  {
   "cell_type": "code",
   "execution_count": null,
   "id": "d686b508-22e6-4bd2-b6e4-3f4dcf011220",
   "metadata": {},
   "outputs": [],
   "source": [
    "#RelationshipSatisfaction vs Attrition\n",
    "plt.figure(figsize=(10, 6))\n",
    "sns.histplot(data=df, x=\"RelationshipSatisfaction\", hue=\"Attrition\", palette=\"viridis\")\n",
    "plt.title(\"Distribution of RelationshipSatisfaction by Attrition\")\n",
    "plt.xlabel(\"RelationshipSatisfaction\")\n",
    "plt.ylabel(\"Count\")\n",
    "plt.show()"
   ]
  },
  {
   "cell_type": "code",
   "execution_count": null,
   "id": "ad2c7c11-fe9f-42b6-a086-47d498dcbbbe",
   "metadata": {},
   "outputs": [],
   "source": [
    "#WorkLifeBalance vs Attrition\n",
    "plt.figure(figsize=(10, 6))\n",
    "sns.histplot(data=df, x=\"WorkLifeBalance\", hue=\"Attrition\", palette=\"viridis\")\n",
    "plt.title(\"Distribution of WorkLifeBalance by Attrition\")\n",
    "plt.xlabel(\"WorkLifeBalance\")\n",
    "plt.ylabel(\"Count\")\n",
    "plt.show()"
   ]
  },
  {
   "cell_type": "code",
   "execution_count": null,
   "id": "02a60da9-a40f-48db-8920-65d36314d58b",
   "metadata": {},
   "outputs": [],
   "source": [
    "#MonthlyRate vs Attrition\n",
    "plt.figure(figsize=(10, 6))\n",
    "sns.histplot(data=df, x=\"MonthlyRate\", hue=\"Attrition\", palette=\"viridis\")\n",
    "plt.title(\"Distribution of MonthlyRate by Attrition\")\n",
    "plt.xlabel(\"MonthlyRate\")\n",
    "plt.ylabel(\"Count\")\n",
    "plt.show()"
   ]
  },
  {
   "cell_type": "code",
   "execution_count": null,
   "id": "b4aa4f4b-0470-49f8-9af2-e4418c0fbdf7",
   "metadata": {},
   "outputs": [],
   "source": [
    "#DistanceFromHome vs Attrition\n",
    "plt.figure(figsize=(10, 6))\n",
    "sns.histplot(data=df, x=\"DistanceFromHome\", hue=\"Attrition\", palette=\"viridis\")\n",
    "plt.title(\"Distribution of DistanceFromHome by Attrition\")\n",
    "plt.xlabel(\"DistanceFromHome\")\n",
    "plt.ylabel(\"Count\")\n",
    "plt.show()"
   ]
  },
  {
   "cell_type": "code",
   "execution_count": null,
   "id": "f8dfcbb1-2dab-46cd-b64a-4003afba70a9",
   "metadata": {},
   "outputs": [],
   "source": [
    "#EnvironmentSatisfaction vs Attrition\n",
    "plt.figure(figsize=(10, 6))\n",
    "sns.histplot(data=df, x=\"EnvironmentSatisfaction\", hue=\"Attrition\", palette=\"viridis\")\n",
    "plt.title(\"Distribution of EnvironmentSatisfaction by Attrition\")\n",
    "plt.xlabel(\"EnvironmentSatisfaction\")\n",
    "plt.ylabel(\"Count\")\n",
    "plt.show()"
   ]
  },
  {
   "cell_type": "markdown",
   "id": "60aa97c6-ec90-4b40-8c57-fe98e23f4559",
   "metadata": {},
   "source": [
    "Observation: The above graph shows us that the features compare very well with attrition in the dataset. That is because most of these seem to increase or decrease along attrition and it confirms that we infact are considering influential features. \n",
    "\n",
    "In summary, all the above visualization shows us that these features do indeed influence employee attrition. So, we can go ahead with understanding that these are the right tools to consider whether someone will stay with the company or not. "
   ]
  },
  {
   "cell_type": "markdown",
   "id": "ceb32cd0-8432-4f90-9a96-83ee881a3ac7",
   "metadata": {},
   "source": [
    "2. Class Imbalance"
   ]
  },
  {
   "cell_type": "code",
   "execution_count": null,
   "id": "2fcbbb40-bdb1-465d-b746-8c1efd6edf3a",
   "metadata": {},
   "outputs": [],
   "source": [
    "From the below findings, we can see that there are more employees who stayed than those who left"
   ]
  },
  {
   "cell_type": "code",
   "execution_count": 5,
   "id": "4d7e0717-31d2-41b8-b437-2b1306fc6809",
   "metadata": {},
   "outputs": [
    {
     "name": "stdout",
     "output_type": "stream",
     "text": [
      "Attrition\n",
      "0    1233\n",
      "1     237\n",
      "Name: count, dtype: int64\n",
      "Percentage stayed 84 %\n",
      "Percentage left 16 %\n"
     ]
    }
   ],
   "source": [
    "#attrition numbers\n",
    "attrition = df['Attrition'].value_counts()\n",
    "percentage_stayed = round((1233/1470) * 100)\n",
    "percentage_left = round((237/1470) * 100)\n",
    "print (attrition)\n",
    "print(\"Percentage stayed\", percentage_stayed, \"%\")\n",
    "print(\"Percentage left\", percentage_left, \"%\")"
   ]
  },
  {
   "cell_type": "code",
   "execution_count": null,
   "id": "6a339699-963f-438c-9f8f-1fa19a7a38b0",
   "metadata": {},
   "outputs": [],
   "source": []
  }
 ],
 "metadata": {
  "kernelspec": {
   "display_name": "Python 3 (ipykernel)",
   "language": "python",
   "name": "python3"
  },
  "language_info": {
   "codemirror_mode": {
    "name": "ipython",
    "version": 3
   },
   "file_extension": ".py",
   "mimetype": "text/x-python",
   "name": "python",
   "nbconvert_exporter": "python",
   "pygments_lexer": "ipython3",
   "version": "3.11.7"
  }
 },
 "nbformat": 4,
 "nbformat_minor": 5
}
