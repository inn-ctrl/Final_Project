{
 "cells": [
  {
   "cell_type": "code",
   "execution_count": 7,
   "id": "d71693b9-557d-4918-836c-03df9090ffc7",
   "metadata": {},
   "outputs": [],
   "source": [
    "import pandas as pd\n",
    "from joblib import load"
   ]
  },
  {
   "cell_type": "markdown",
   "id": "10b84425-6c28-45d7-be86-9f145a930ea6",
   "metadata": {},
   "source": [
    "Model Implementation"
   ]
  },
  {
   "cell_type": "code",
   "execution_count": 8,
   "id": "3d725b36-ff8a-4b22-812b-0b0294c53dcf",
   "metadata": {},
   "outputs": [],
   "source": [
    "#load best_model\n",
    "best_model = load('../requirements/best_model.joblib')"
   ]
  },
  {
   "cell_type": "code",
   "execution_count": 10,
   "id": "22a70faf-592c-4f1e-b5ab-14398ca7394c",
   "metadata": {},
   "outputs": [
    {
     "name": "stdout",
     "output_type": "stream",
     "text": [
      "Employee is likely to go\n"
     ]
    }
   ],
   "source": [
    "newdata = pd.DataFrame({'TotalWorkingYears': 10,\n",
    "                        'JobLevel': 3,\n",
    "                        'YearsAtCompany': 5,\n",
    "                        'MonthlyIncome': 3000,\n",
    "                        'YearsInCurrentRole': 10,\n",
    "                        'YearsWithCurrManager': 3,\n",
    "                        'YearsSinceLastPromotion': 1,\n",
    "                        'Age': 32,\n",
    "                        'JobRole': 5,\n",
    "                        'Education': 4,\n",
    "                        'MaritalStatus': 1,\n",
    "                        'NumCompaniesWorked': 2,\n",
    "                        'Gender': 1,\n",
    "                        'StockOptionLevel':1 ,\n",
    "                        'RelationshipSatisfaction': 4,\n",
    "                        'WorkLifeBalance': 3,\n",
    "                        'MonthlyRate': 19200,\n",
    "                        'DistanceFromHome': 1,\n",
    "                        'EnvironmentSatisfaction': 4},\n",
    "                       index = [0])\n",
    "predictions = best_model.predict(newdata)\n",
    "\n",
    "#result\n",
    "if predictions == 1:\n",
    "  print(\"Employee is likely to stay\")\n",
    "else:\n",
    "  print(\"Employee is likely to go\")"
   ]
  }
 ],
 "metadata": {
  "kernelspec": {
   "display_name": "Python 3 (ipykernel)",
   "language": "python",
   "name": "python3"
  },
  "language_info": {
   "codemirror_mode": {
    "name": "ipython",
    "version": 3
   },
   "file_extension": ".py",
   "mimetype": "text/x-python",
   "name": "python",
   "nbconvert_exporter": "python",
   "pygments_lexer": "ipython3",
   "version": "3.11.7"
  }
 },
 "nbformat": 4,
 "nbformat_minor": 5
}
