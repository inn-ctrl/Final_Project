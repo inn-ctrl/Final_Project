{
 "cells": [
  {
   "cell_type": "code",
   "execution_count": 1,
   "id": "32ccdab5-6ffa-4226-94db-403da50ac632",
   "metadata": {},
   "outputs": [],
   "source": [
    "import pandas as pd\n",
    "\n",
    "#Model imports\n",
    "from sklearn.model_selection import train_test_split, GridSearchCV\n",
    "from sklearn.ensemble import RandomForestClassifier\n",
    "from sklearn.metrics import accuracy_score, classification_report\n",
    "from sklearn.pipeline import Pipeline\n",
    "\n",
    "#model dumping\n",
    "from joblib import dump\n",
    "import os"
   ]
  },
  {
   "cell_type": "code",
   "execution_count": 2,
   "id": "73f7a850-0df3-4ecb-b83a-6ea2fb846b28",
   "metadata": {},
   "outputs": [],
   "source": [
    "#dataset\n",
    "data = pd.read_csv('../data/data.csv')"
   ]
  },
  {
   "cell_type": "markdown",
   "id": "6f0d29c3-de76-44da-8699-5c7351c35c05",
   "metadata": {},
   "source": [
    "1. Random Forest classification: Will handle imbalances in left employees without the need to apply other techniques such as oversampling and undersampling\n",
    "2. Metrics: \n",
    "- accuracy\n",
    "- ROC/AUC\n",
    "- precision/recall\n",
    "- f1"
   ]
  },
  {
   "cell_type": "code",
   "execution_count": null,
   "id": "57aa8542-b63d-440a-8cbe-6a094fffa42d",
   "metadata": {},
   "outputs": [],
   "source": [
    "#splitting data dataset\n",
    "X = data.drop('Attrition', axis = 1)\n",
    "y = data['Attrition']\n",
    "\n",
    "X_train, X_test, y_train, y_test = train_test_split(X, y, test_size=0.3, random_state=42) \n",
    "\n",
    "#model pipeline \n",
    "pipeline = Pipeline([\n",
    "        ('rf', RandomForestClassifier(random_state=42))\n",
    "])\n",
    "\n",
    "## Define the grid of hyperparameters to search\n",
    "param_grid = {\n",
    "    'rf__n_estimators': [100, 200, 300],\n",
    "    'rf__max_depth': [None, 5, 10],\n",
    "    'rf__min_samples_split': [2, 5, 10],\n",
    "    'rf__min_samples_leaf': [1, 2, 4]\n",
    "}\n",
    "\n",
    "# Create the grid search object\n",
    "grid_search = GridSearchCV(pipeline, param_grid=param_grid, cv=5)\n",
    "\n",
    "# Fit the grid search object to the data\n",
    "grid_search.fit(X_train, y_train)\n",
    "\n",
    "# Get the best hyperparameters\n",
    "best_params = grid_search.best_params_\n",
    "\n",
    "# Print the best hyperparameters\n",
    "print(f\"Best hyperparameters: {best_params}\")\n"
   ]
  },
  {
   "cell_type": "code",
   "execution_count": null,
   "id": "fd42b599-fb83-4238-8961-fcb563e8661a",
   "metadata": {},
   "outputs": [],
   "source": [
    "best_params"
   ]
  },
  {
   "cell_type": "code",
   "execution_count": null,
   "id": "841041b0-261c-441f-9a39-9f86e8222736",
   "metadata": {},
   "outputs": [],
   "source": [
    "#above model should be in a pipeline, saved, and imported\n",
    "#later for use in evaluation"
   ]
  },
  {
   "cell_type": "code",
   "execution_count": 10,
   "id": "6e84f196-15b7-412b-bff4-6b4e30fea754",
   "metadata": {},
   "outputs": [],
   "source": [
    "#fit on model\n",
    "best_model = grid_search.best_estimator_\n",
    "\n",
    "#fit on train\n",
    "result = best_model.fit(X_train, y_train)\n",
    "\n",
    "#y-pred\n",
    "y_pred = best_model.predict(X_test)\n"
   ]
  },
  {
   "cell_type": "markdown",
   "id": "49c39d02-db25-4fb0-b225-a39686739a68",
   "metadata": {},
   "source": [
    "For future usability, we save our model, trained on this dataset, to be used for future tasks"
   ]
  },
  {
   "cell_type": "code",
   "execution_count": 11,
   "id": "23b35bfa-4048-4c59-a2f8-b01a003c9f01",
   "metadata": {},
   "outputs": [
    {
     "data": {
      "text/plain": [
       "['../requirements/best_model.joblib']"
      ]
     },
     "execution_count": 11,
     "metadata": {},
     "output_type": "execute_result"
    }
   ],
   "source": [
    "folder = '../requirements'\n",
    "model_file = os.path.join(folder, 'best_model.joblib')\n",
    "dump(best_model, model_file)"
   ]
  },
  {
   "cell_type": "code",
   "execution_count": 13,
   "id": "6dd9bc83-858d-4e3b-859b-9124079fa3db",
   "metadata": {},
   "outputs": [
    {
     "ename": "TypeError",
     "evalue": "'str' object is not callable",
     "output_type": "error",
     "traceback": [
      "\u001b[0;31m---------------------------------------------------------------------------\u001b[0m",
      "\u001b[0;31mTypeError\u001b[0m                                 Traceback (most recent call last)",
      "Cell \u001b[0;32mIn[13], line 4\u001b[0m\n\u001b[1;32m      2\u001b[0m accuracy \u001b[38;5;241m=\u001b[39m accuracy_score(y_test, y_pred)\n\u001b[1;32m      3\u001b[0m \u001b[38;5;66;03m#classification report\u001b[39;00m\n\u001b[0;32m----> 4\u001b[0m classification_report \u001b[38;5;241m=\u001b[39m classification_report(y_test, y_pred)\n\u001b[1;32m      6\u001b[0m \u001b[38;5;28mprint\u001b[39m(accuracy)\n\u001b[1;32m      7\u001b[0m \u001b[38;5;28mprint\u001b[39m(classification_report)\n",
      "\u001b[0;31mTypeError\u001b[0m: 'str' object is not callable"
     ]
    }
   ],
   "source": [
    "#evaluate accuracy\n",
    "accuracy = accuracy_score(y_test, y_pred)\n",
    "#classification report\n",
    "classification_report = classification_report(y_test, y_pred)\n",
    "\n",
    "print(accuracy)\n",
    "print(classification_report)"
   ]
  },
  {
   "cell_type": "code",
   "execution_count": null,
   "id": "3e00e658-c4ef-4630-b9f7-48f7e3b3ab16",
   "metadata": {},
   "outputs": [],
   "source": []
  }
 ],
 "metadata": {
  "kernelspec": {
   "display_name": "Python 3 (ipykernel)",
   "language": "python",
   "name": "python3"
  },
  "language_info": {
   "codemirror_mode": {
    "name": "ipython",
    "version": 3
   },
   "file_extension": ".py",
   "mimetype": "text/x-python",
   "name": "python",
   "nbconvert_exporter": "python",
   "pygments_lexer": "ipython3",
   "version": "3.11.7"
  }
 },
 "nbformat": 4,
 "nbformat_minor": 5
}
