{
 "cells": [
  {
   "cell_type": "code",
   "execution_count": 7,
   "id": "32ccdab5-6ffa-4226-94db-403da50ac632",
   "metadata": {},
   "outputs": [],
   "source": [
    "import pandas as pd\n",
    "\n",
    "#Model imports\n",
    "from sklearn.model_selection import train_test_split\n",
    "from sklearn.ensemble import RandomForestClassifier"
   ]
  },
  {
   "cell_type": "code",
   "execution_count": 9,
   "id": "73f7a850-0df3-4ecb-b83a-6ea2fb846b28",
   "metadata": {},
   "outputs": [],
   "source": [
    "#dataset\n",
    "data = pd.read_csv('../data/data.csv')"
   ]
  },
  {
   "cell_type": "markdown",
   "id": "6f0d29c3-de76-44da-8699-5c7351c35c05",
   "metadata": {},
   "source": [
    "1. Random Forest classification: Will handle imbalances in left employees without the need to apply other techniques such as oversampling and undersampling\n",
    "2. Metrics: \n",
    "- accuracy\n",
    "- ROC/AUC\n",
    "- precision/recall\n",
    "- f1"
   ]
  },
  {
   "cell_type": "code",
   "execution_count": 8,
   "id": "57aa8542-b63d-440a-8cbe-6a094fffa42d",
   "metadata": {},
   "outputs": [],
   "source": [
    "#splitting data dataset\n",
    "X = data.drop('Attrition', axis = 1)\n",
    "y = data['Attrition']\n",
    "\n",
    "X_train, X_test, y_train, y_test = train_test_split(X, y, test_size=0.3, random_state=42) \n",
    "\n",
    "#model \n",
    "model = RandomForestClassifier(random_state=42)\n",
    "\n",
    "#fit model\n",
    "result = model.fit(X_train, y_train) \n",
    "\n",
    "#y-pred\n",
    "y_pred = model.predict(X_test)"
   ]
  },
  {
   "cell_type": "code",
   "execution_count": null,
   "id": "841041b0-261c-441f-9a39-9f86e8222736",
   "metadata": {},
   "outputs": [],
   "source": []
  }
 ],
 "metadata": {
  "kernelspec": {
   "display_name": "Python 3 (ipykernel)",
   "language": "python",
   "name": "python3"
  },
  "language_info": {
   "codemirror_mode": {
    "name": "ipython",
    "version": 3
   },
   "file_extension": ".py",
   "mimetype": "text/x-python",
   "name": "python",
   "nbconvert_exporter": "python",
   "pygments_lexer": "ipython3",
   "version": "3.11.7"
  }
 },
 "nbformat": 4,
 "nbformat_minor": 5
}
